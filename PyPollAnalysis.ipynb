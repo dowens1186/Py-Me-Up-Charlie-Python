{
 "cells": [
  {
   "cell_type": "code",
   "execution_count": 1,
   "metadata": {},
   "outputs": [],
   "source": [
    "import os\n",
    "import csv\n",
    "import time  "
   ]
  },
  {
   "cell_type": "code",
   "execution_count": 2,
   "metadata": {},
   "outputs": [],
   "source": [
    "# return the list of values form \n",
    "# the csv file as a list\n",
    "def get_raw_csv_list(skip_first_line, path, *paths):\n",
    "\tcsv_path = ''\n",
    "\t# https://www.w3schools.com/python/gloss_python_function_arbitrary_arguments.asp\n",
    "\tif not paths:\n",
    "\t\tcsv_path = os.path.join(path)\n",
    "\telse:\n",
    "\t\tcsv_path = os.path.join(path, *paths)\n",
    "\twith open(csv_path) as csv_file:\n",
    "\t\t# CSV reader specifies delimiter and variable that holds contents\n",
    "\t\tcsv_reader = csv.reader(csv_file, delimiter=',')\n",
    "\t\t# convert csv data into list\n",
    "\t\tcsv_raw_data = list(csv_reader)\n",
    "\t\t#skip the first line\n",
    "\t\tif (skip_first_line):\n",
    "\t\t\tcsv_raw_data.pop(0)\n",
    "\t\t# return value\n",
    "\t\treturn csv_raw_data"
   ]
  },
  {
   "cell_type": "code",
   "execution_count": 3,
   "metadata": {},
   "outputs": [],
   "source": [
    "# saves the list of strings into path\n",
    "def write_text_file(lines, path, *paths):\n",
    "\ttext_path = ''\n",
    "\t# https://www.w3schools.com/python/gloss_python_function_arbitrary_arguments.asp\n",
    "\tif not paths:\n",
    "\t\ttext_path = os.path.join(path)\n",
    "\telse:\n",
    "\t\ttext_path = os.path.join(path, *paths)\n",
    "\twith open(text_path, 'w') as text_file:\n",
    "\t\t# I prefer to get the length and \n",
    "\t\t# iterate as a carryover from my C# habbits\n",
    "\t\tlength = len(lines)\n",
    "\t\tfor i in range(length):\n",
    "\t\t\ttext_file.write(f'{lines[i]}\\n')\n"
   ]
  },
  {
   "cell_type": "code",
   "execution_count": 4,
   "metadata": {},
   "outputs": [],
   "source": [
    "def clean_data(data):\n",
    "\tif data is None:\n",
    "\t\treturn data\n",
    "\tlength = len(data)\n",
    "\tif length < 1:\n",
    "\t\treturn data\n",
    "\tfor i in range(length):\n",
    "\t\ttry:\n",
    "\t\t\tvoter_id = int(data[i][0])\n",
    "\t\t\tdata[i][0] = voter_id\n",
    "\t\texcept:\n",
    "\t\t\tprint(f'Could not convert line {data[i][0]} into an integer.')\n",
    "\t# https://stackoverflow.com/questions/16310015/what-does-this-mean-key-lambda-x-x1\n",
    "\tdata.sort(key=lambda x: x[2])\n",
    "\treturn data\n"
   ]
  },
  {
   "cell_type": "code",
   "execution_count": 5,
   "metadata": {},
   "outputs": [],
   "source": [
    "def count_votes(ballots):\n",
    "\tcounted_ballots = { }\n",
    "\tfor ballot in ballots:\n",
    "\t\tif ballot[2] in counted_ballots.keys():\n",
    "\t\t\tcounted_ballots[ballot[2]] = counted_ballots[ballot[2]] + 1\n",
    "\t\telse:\n",
    "\t\t\tcounted_ballots[ballot[2]] = 1\n",
    "\tballot_list = list(zip(list(counted_ballots.keys()), list(counted_ballots.values())))\n",
    "\t# https://stackoverflow.com/questions/16310015/what-does-this-mean-key-lambda-x-x1\n",
    "\tballot_list.sort(key=lambda x: x[1])\n",
    "\tballot_list.reverse()\n",
    "\treturn ballot_list"
   ]
  },
  {
   "cell_type": "code",
   "execution_count": 6,
   "metadata": {},
   "outputs": [],
   "source": [
    "# Voter ID,County,Candidate\n",
    "# 12864552,Marsh,Khan\n",
    "\n",
    "data = clean_data(get_raw_csv_list(True, 'Resources', 'election_data.csv'))\n"
   ]
  },
  {
   "cell_type": "code",
   "execution_count": 7,
   "metadata": {},
   "outputs": [],
   "source": [
    "#   * The total number of votes cast\n",
    "data_length = len(data)"
   ]
  },
  {
   "cell_type": "code",
   "execution_count": 8,
   "metadata": {},
   "outputs": [],
   "source": [
    "#   * A complete list of candidates who received votes\n",
    "candidates = count_votes(data)\n",
    "candidates_count = len(candidates)"
   ]
  },
  {
   "cell_type": "code",
   "execution_count": 9,
   "metadata": {},
   "outputs": [],
   "source": [
    "analysis_data=[\n",
    "  f'  Financial Analysis',\n",
    "  f'  Election Results',\n",
    "  f'  -------------------------',\n",
    "  f'  Total Votes: {data_length}',\n",
    "  f'  -------------------------',\n",
    "  f'  -------------------------',\n",
    "  f'  Winner: {candidates[0][0]}',\n",
    "  f'  -------------------------' ]\n"
   ]
  },
  {
   "cell_type": "code",
   "execution_count": null,
   "metadata": {},
   "outputs": [],
   "source": [
    "for i in range(candidates_count):\n",
    "\tpercent = 100 * (candidates[i][1]/data_length)\n",
    "\tanalysis_data.insert(5 + i , f\"  {candidates[i][0]}: {percent:.3f}% ({candidates[i][1]})\")\n",
    "\t\n",
    "write_text_file(analysis_data, 'Analysis', 'analysis.txt')\n",
    "\n",
    "for line in analysis_data:\n",
    "\tprint(line)"
   ]
  }
 ],
 "metadata": {
  "kernelspec": {
   "display_name": "Python 3",
   "language": "python",
   "name": "python3"
  },
  "language_info": {
   "codemirror_mode": {
    "name": "ipython",
    "version": 3
   },
   "file_extension": ".py",
   "mimetype": "text/x-python",
   "name": "python",
   "nbconvert_exporter": "python",
   "pygments_lexer": "ipython3",
   "version": "3.7.6"
  }
 },
 "nbformat": 4,
 "nbformat_minor": 4
}
