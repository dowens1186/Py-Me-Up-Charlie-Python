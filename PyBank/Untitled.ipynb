{
 "cells": [
  {
   "cell_type": "code",
   "execution_count": 1,
   "metadata": {},
   "outputs": [],
   "source": [
    "import os\n",
    "import csv\n",
    "import time  \n"
   ]
  },
  {
   "cell_type": "code",
   "execution_count": 2,
   "metadata": {},
   "outputs": [],
   "source": [
    "# return the list of values form \n",
    "# the csv file as a list\n",
    "def get_raw_csv_list(skip_first_line, path, *paths):\n",
    "\tcsv_path = ''\n",
    "\t# https://www.w3schools.com/python/gloss_python_function_arbitrary_arguments.asp\n",
    "\tif not paths:\n",
    "\t\tcsv_path = os.path.join(path)\n",
    "\telse:\n",
    "\t\tcsv_path = os.path.join(path, *paths)\n",
    "\twith open(csv_path) as csv_file:\n",
    "\t\t# CSV reader specifies delimiter and variable that holds contents\n",
    "\t\tcsv_reader = csv.reader(csv_file, delimiter=',')\n",
    "\t\t# convert csv data into list\n",
    "\t\tcsv_raw_data = list(csv_reader)\n",
    "\t\t#skip the first line\n",
    "\t\tif (skip_first_line):\n",
    "\t\t\tcsv_raw_data.pop(0)\n",
    "\t\t# return value\n",
    "\t\treturn csv_raw_data\n"
   ]
  },
  {
   "cell_type": "code",
   "execution_count": 3,
   "metadata": {},
   "outputs": [],
   "source": [
    "# saves the list of strings into path\n",
    "def write_text_file(lines, path, *paths):\n",
    "\ttext_path = ''\n",
    "\t# https://www.w3schools.com/python/gloss_python_function_arbitrary_arguments.asp\n",
    "\tif not paths:\n",
    "\t\ttext_path = os.path.join(path)\n",
    "\telse:\n",
    "\t\ttext_path = os.path.join(path, *paths)\n",
    "\twith open(text_path, 'w') as text_file:\n",
    "\t\t# I prefer to get the length and \n",
    "\t\t# iterate as a carryover from my C# habbits\n",
    "\t\tlength = len(lines)\n",
    "\t\tfor i in range(length):\n",
    "\t\t\ttext_file.write(f'{lines[i]}\\n')"
   ]
  },
  {
   "cell_type": "code",
   "execution_count": 4,
   "metadata": {},
   "outputs": [],
   "source": [
    "def clean_data(data):\n",
    "\tif data is None:\n",
    "\t\treturn data\n",
    "\tlength = len(data)\n",
    "\tif length < 1:\n",
    "\t\treturn data\n",
    "\tfor i in range(length):\n",
    "\t\ttry:\n",
    "\t\t\t# https://www.tutorialspoint.com/python3/time_strptime.htm\n",
    "\t\t\t# convert the string value of the time from Feb-2020\n",
    "\t\t\t# into a time struct object\n",
    "\t\t\tdt = time.strptime(data[i][0], '%b-%Y')\n",
    "\t\t\tdata[i][0] = dt\n",
    "\t\texcept:\n",
    "\t\t\tprint(f'Could not convert line {data[i][0]} into time struct.')\n",
    "\t\ttry:\n",
    "\t\t\tmoney = int(data[i][1])\n",
    "\t\t\tdata[i][1] = money\n",
    "\t\texcept:\n",
    "\t\t\tprint(f'Could not convert line {data[i][1]} into integer.')\n",
    "\t# https://stackoverflow.com/questions/16310015/what-does-this-mean-key-lambda-x-x1\n",
    "\tdata.sort(key=lambda x: x[0])\n",
    "\treturn data\n"
   ]
  },
  {
   "cell_type": "code",
   "execution_count": 5,
   "metadata": {},
   "outputs": [],
   "source": [
    "# Date,Profit/Losses\n",
    "# Jan-2010,867884\n",
    "\n",
    "data = clean_data(get_raw_csv_list(True, 'Resources', 'budget_data.csv'))\n",
    "data_length = len(data)"
   ]
  },
  {
   "cell_type": "code",
   "execution_count": 6,
   "metadata": {},
   "outputs": [],
   "source": [
    "#   * The total number of months included in the dataset\n",
    "time_column = [val[0] for val in data]\n",
    "# https://www.geeksforgeeks.org/python-ways-to-remove-duplicates-from-list/\n",
    "# remove duplicates\n",
    "time_column = list(set(time_column))\n",
    "total_months = len(time_column)"
   ]
  },
  {
   "cell_type": "code",
   "execution_count": 7,
   "metadata": {},
   "outputs": [],
   "source": [
    "#   * The net total amount of \"Profit/Losses\" over the entire period\n",
    "total_money = 0\n",
    "for line in data:\n",
    "\ttotal_money = total_money + line[1]"
   ]
  },
  {
   "cell_type": "code",
   "execution_count": 8,
   "metadata": {},
   "outputs": [],
   "source": [
    "#   * Calculate the changes in \"Profit/Losses\" over the entire period, then find the average of those changes\n",
    "month_prof_changes=[]\n",
    "for i in range(1, data_length):\n",
    "\tmonth_prof_changes.append(data[i][1] - data[i-1][1])\n",
    "\n",
    "average_change=0\n",
    "for line in month_prof_changes:\n",
    "\taverage_change = average_change + line\n",
    "average_change = average_change/(data_length-1)\n"
   ]
  },
  {
   "cell_type": "code",
   "execution_count": 9,
   "metadata": {},
   "outputs": [],
   "source": [
    "# https://www.tutorialspoint.com/python/list_max.htm\n",
    "#   * The greatest increase in profits (date and amount) over the entire period\n",
    "inc_in_prof = max(month_prof_changes)\n",
    "inc_in_prof_month = data[1 + month_prof_changes.index(inc_in_prof)][0]\n",
    "inc_in_prof_month = time.strftime('%b-%Y', inc_in_prof_month)"
   ]
  },
  {
   "cell_type": "code",
   "execution_count": 12,
   "metadata": {},
   "outputs": [],
   "source": [
    "#   * The greatest decrease in losses (date and amount) over the entire periodtime_column = [val[0] for val in raw_data]\n",
    "dec_in_prof = min(month_prof_changes)\n",
    "dec_in_prof_month = data[1 + month_prof_changes.index(dec_in_prof)][0]\n",
    "dec_in_prof_month = time.strftime('%b-%Y', dec_in_prof_month)\n"
   ]
  },
  {
   "cell_type": "code",
   "execution_count": null,
   "metadata": {},
   "outputs": [],
   "source": [
    "analysis_data=[\n",
    "  f'  Financial Analysis',\n",
    "  f'  ----------------------------',\n",
    "  f'  Total Months: {total_months}',\n",
    "  f'  Total: ${total_money}',\n",
    "  f'  Average  Change: ${average_change:.2f}',\n",
    "  f'  Greatest Increase in Profits: {inc_in_prof_month}',\n",
    "  f'  Greatest Decrease in Profits: {dec_in_prof_month}' ]\n",
    "\n",
    "write_text_file(analysis_data, 'Analysis', 'analysis.txt')\n",
    "\n",
    "for line in analysis_data:\n",
    "\tprint(line)"
   ]
  }
 ],
 "metadata": {
  "kernelspec": {
   "display_name": "Python 3",
   "language": "python",
   "name": "python3"
  },
  "language_info": {
   "codemirror_mode": {
    "name": "ipython",
    "version": 3
   },
   "file_extension": ".py",
   "mimetype": "text/x-python",
   "name": "python",
   "nbconvert_exporter": "python",
   "pygments_lexer": "ipython3",
   "version": "3.7.6"
  }
 },
 "nbformat": 4,
 "nbformat_minor": 4
}
